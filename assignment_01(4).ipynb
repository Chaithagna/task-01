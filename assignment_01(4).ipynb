{
  "cells": [
    {
      "cell_type": "markdown",
      "metadata": {
        "id": "paZB6zuze-dZ"
      },
      "source": [
        "1.Explain the basic structure of an HTML page. Why is it important to follow\n",
        "this structure?\n",
        "  -"
      ]
    },
    {
      "cell_type": "markdown",
      "metadata": {},
      "source": [
        "'''<!DOCTYPE html>\n",
        "<html>\n",
        "  <head>\n",
        "    <title>Basic structure </title>\n",
        "  </head>\n",
        "  <body>\n",
        "    <h1> Welcome to website </h1>\n",
        "    <p>This is a paragragh tag </p>\n",
        "  </body>\n",
        "</html>'''"
      ]
    },
    {
      "cell_type": "markdown",
      "metadata": {
        "id": "UOLObnL_iyBV"
      },
      "source": []
    },
    {
      "cell_type": "markdown",
      "metadata": {
        "id": "5WZ5RRjxi0aQ"
      },
      "source": [
        "Here from above;  \n",
        "**DOCTYPE html**- refered to the HTML5 version  \n",
        "**html tag**-root element of the code,refferd to the html content inside it.  \n",
        "**head tag**-head section of the code and contains title and meta section  \n",
        "**body tag**-inside it there is all visible part of the web page like imagr,text,links etc.,  \n"
      ]
    },
    {
      "cell_type": "markdown",
      "metadata": {
        "id": "lIv01xQzk_-Y"
      },
      "source": []
    },
    {
      "cell_type": "markdown",
      "metadata": {
        "id": "kkVchYzVXdud"
      },
      "source": []
    },
    {
      "cell_type": "markdown",
      "metadata": {
        "id": "eXe6bKK4md5E"
      },
      "source": [
        "* It is very important because it is then basic structure of html.  "
      ]
    },
    {
      "cell_type": "markdown",
      "metadata": {
        "id": "9vOleLkEXgOG"
      },
      "source": [
        " - The structure is very important for identification of browser.\n",
        " - It gives good structure and meaning for humans as well as for macines."
      ]
    },
    {
      "cell_type": "markdown",
      "metadata": {
        "id": "SxxoMI4-Y3nr"
      },
      "source": [
        "2: You’re building a small personal profile page. Which HTML tags will you\n",
        "use to highlight your name as a heading, describe yourself in a paragraph, and\n",
        "emphasize a key skill?  \n"
      ]
    },
    {
      "cell_type": "markdown",
      "metadata": {},
      "source": [
        "'''\n",
        "\n",
        "<!DOCTYPE html>\n",
        "<html>\n",
        "<head>\n",
        "  <title>MY PROFILE </title>\n",
        "</head>\n",
        "<body>\n",
        "  <h1>Chaithagna</h1>\n",
        "  <p>!HELLO I am passinate and curious learner  of knowing new technoligies which are happening around the world.</p>\n",
        "  <br>\n",
        "  <p>One of my key strength is web development and communicating skills </p>\n",
        "</body>\n",
        "</html>\n",
        "'''\n"
      ]
    },
    {
      "cell_type": "markdown",
      "metadata": {},
      "source": [
        "'''#3: Look at the code below. Can you find and fix the mistake?\n",
        "#<!-- This is an HTML comment\n",
        "#<h1>Welcome to my website</h1>\n",
        "#Answer\n",
        "#after fixing the code the code is\n",
        "<!DOCTYPE html>\n",
        "<html>\n",
        "<body>\n",
        "<!--This is an HTML comment-->\n",
        "<h1> Welcome to my website </h1>\n",
        "</body>\n",
        "</html>'''\n"
      ]
    },
    {
      "cell_type": "markdown",
      "metadata": {
        "id": "e2H1EPlShzbE"
      },
      "source": [
        "4: You’re creating a form that asks the user to enter their name, select their\n",
        "country from a list, and click a button to submit. Write the HTML code for this.  \n",
        "Answer:"
      ]
    },
    {
      "cell_type": "markdown",
      "metadata": {},
      "source": [
        "'''\n",
        "<!DOCTYPE html>\n",
        "<html>\n",
        "  <head>\n",
        "    <title>Sample form </title>\n",
        "  </head>\n",
        "  <body>\n",
        "    <form action=\"jk.php\" method=\"post\">\n",
        "      <label> Name:</label><input type=\"text\" placeholder=\"enter your name\" name=\"one\">\n",
        "      <br>\n",
        "      <p>select your country </p>\n",
        "      <select name=\"country\">\n",
        "        <option value=\"India\">India</option>\n",
        "        <option value=\"Germany\">Germany</option>\n",
        "        <option value=\"USA\">USA</option>\n",
        "        <option value=\"Australia\">Austarlia</option>\n",
        "      </select>\n",
        "      <br>\n",
        "      <input type=\"submit\" placeholder=\"submit\">\n",
        "    </form>\n",
        "  </body>\n",
        "</html>\n",
        "'''"
      ]
    },
    {
      "cell_type": "markdown",
      "metadata": {
        "id": "oRsqVnHs-VW9"
      },
      "source": [
        "5: Write short HTML code to show your favorite fruits in a bulleted list and\n",
        "your top 3 programming languages in a numbered list."
      ]
    },
    {
      "cell_type": "markdown",
      "metadata": {},
      "source": [
        "#Answer\n",
        "'''\n",
        "<!DOCTYPE html>\n",
        "<html>\n",
        "  <head>\n",
        "    <title>Unorderd and ordered lists </title>\n",
        "  </head>\n",
        "  <body>\n",
        "    <h4>My favourite fruits </h4>\n",
        "    <ul>\n",
        "      <li>Mango</li>\n",
        "      <li>Jack fruit</li>\n",
        "      <li>Caustard Apple</li>\n",
        "      <li>Gauva</li>\n",
        "      <li>grapes</li>\n",
        "    </ul>\n",
        "    <h4>Top3 programming languages</h4>\n",
        "    <ol>\n",
        "      <li> Python</li>\n",
        "      <li>Java Script</li>\n",
        "      <li>Java</li>\n",
        "    </ol>\n",
        "  </body>\n",
        "</html>\n",
        "\n",
        "'''"
      ]
    },
    {
      "cell_type": "markdown",
      "metadata": {
        "id": "rSxHX3qZAPz9"
      },
      "source": [
        " 6: Ravi wants to leave a note in his HTML file so that only other developers\n",
        "can see it, not the users on the website. How should he do this? Why are such notes\n",
        "useful?"
      ]
    },
    {
      "cell_type": "markdown",
      "metadata": {},
      "source": [
        "#Answer\n",
        "'''\n",
        "<!DOCTYPE html>\n",
        "<html>\n",
        "  <head>\n",
        "    <title>Using of comments</title>\n",
        "  </head>\n",
        "  <body>\n",
        "    <!--This is comment-->\n",
        "    <!--This is a heading tag-->\n",
        "    <h1>Welcome</h1>\n",
        "  </body>\n",
        "</html>\n",
        "'''\n",
        "\n"
      ]
    },
    {
      "cell_type": "markdown",
      "metadata": {
        "id": "fEF0sPdNBodz"
      },
      "source": [
        "-  The comments are used for understanding of code and structure for developera who read and modify that code.  \n",
        "-  They improve collaboration by proving context for others working on same file."
      ]
    },
    {
      "cell_type": "markdown",
      "metadata": {
        "id": "bKOVbjJ1C1bq"
      },
      "source": [
        " 7: Here’s a form snippet. Can you spot the error and rewrite the correct\n",
        "version?"
      ]
    },
    {
      "cell_type": "markdown",
      "metadata": {},
      "source": [
        "'''<form>\n",
        "<input name=\"email\">\n",
        "<select>\n",
        "<option>India</option>\n",
        "</select>\n",
        "<button>Send</buton>\n",
        "</form>'''\n",
        "#Answer\n",
        "<form>\n",
        "<input type=\"email\">\n",
        "<select>\n",
        "<option>India</option>\n",
        "</select>\n",
        "<button>Send</buton>\n",
        "</form>\n"
      ]
    }
  ],
  "metadata": {
    "colab": {
      "provenance": []
    },
    "kernelspec": {
      "display_name": "Python 3",
      "name": "python3"
    },
    "language_info": {
      "name": "python"
    }
  },
  "nbformat": 4,
  "nbformat_minor": 0
}
