{
  "nbformat": 4,
  "nbformat_minor": 0,
  "metadata": {
    "colab": {
      "provenance": []
    },
    "kernelspec": {
      "name": "python3",
      "display_name": "Python 3"
    },
    "language_info": {
      "name": "python"
    }
  },
  "cells": [
    {
      "cell_type": "markdown",
      "source": [
        "1. What are semantic HTML elements? Why is using them important for web\n",
        "development?  \n",
        "ans:  \n",
        "# **Semantic tags:**Semantic tags are modren grouping tags.These are used for grouping of certain html elements.\n",
        "# **Importance:**  \n",
        "- These are mainly helpful for screen readers and seperate the code for developers into sections.\n",
        "- By using this the code is very understandable and readable.  \n",
        "# **some sematic Elements**\n",
        "header tag:tells the reders that web page part is header.  \n",
        "footer tag:tells or can be recognized that the code is for footer section.  \n",
        "aside tag:recogises that the code is for side part of web page.  \n",
        "and some othet tags are section.\n",
        "\n",
        "\n"
      ],
      "metadata": {
        "id": "WPfB0VRK4sg2"
      }
    },
    {
      "cell_type": "markdown",
      "source": [
        "2.2: You're designing a blog page. Which semantic elements would you use to\n",
        "structure the page, and why?  \n",
        "ans:  \n",
        "when we designing the blog page we use  \n",
        "header  tag  \n",
        "nav tag  \n",
        "main tag  \n",
        "aside tag  \n",
        "section tag  \n",
        "footer tag  \n",
        "##**header tag:**   \n",
        "this represents the top of the web page mainly contains the logo introduction of the web page.  \n",
        "# **nav tag:**\n",
        "In this contains the navigation links to jump from one page to another page.\n",
        "# **main tag:**\n",
        "This tag is used to represent the main part of the web page.  \n",
        "# **section tag:**\n",
        "This tag used to group the same content of the web.\n",
        "# **aside tag:**\n",
        "This represents the side part of the section,Like sidebar of the web page.  \n",
        "# **footer tag:**\n",
        "In this tag contains the last part of the section footer part the section."
      ],
      "metadata": {
        "id": "ypczTj0s_J5a"
      }
    },
    {
      "cell_type": "markdown",
      "source": [
        "3. How can you make an HTML form more accessible to users with\n",
        "disabilities?  \n",
        "ans:  \n",
        "- The HTML form can be more acessaible by adding proper labels,structure tags,providing error messages by roles.so that screen readers can assist them easily.  \n",
        "- By providing correct label taggs for input and the correct input type like for text type=\"text\" ,for phone number type=\"number\",and for email type=email\" like that providing corrct tags the user disables can access the form easily through screen readers."
      ],
      "metadata": {
        "id": "JaC8JOIiFg4F"
      }
    },
    {
      "cell_type": "markdown",
      "source": [
        "4.Identify and correct the errors in the following CSS code:"
      ],
      "metadata": {
        "id": "jQWEAGPpJp33"
      }
    },
    {
      "cell_type": "code",
      "source": [
        "p {\n",
        "font-size: 16;\n",
        "color: #333\n",
        "margin-top 10px;\n",
        "}\n",
        "ans:\n",
        "p{\n",
        "    font-size:16px;\n",
        "    color:#333;\n",
        "    margin-top:10px;\n",
        "}"
      ],
      "metadata": {
        "id": "rlumyLa6J26x"
      },
      "execution_count": null,
      "outputs": []
    },
    {
      "cell_type": "markdown",
      "source": [
        " 5.Write CSS rules to style all h2 elements inside a section with a blue\n",
        "color and center alignment.  \n",
        "Ans:  \n",
        "- In section tag use class or Id and by using the class name or id name the h2 can be styled.let class name be blok.\n"
      ],
      "metadata": {
        "id": "hiEtziVqKpvC"
      }
    },
    {
      "cell_type": "code",
      "source": [
        ".block h2{\n",
        "    color:blue;\n",
        "    text-align:center;\n",
        "}"
      ],
      "metadata": {
        "id": "cs8mBVcyMAbd"
      },
      "execution_count": null,
      "outputs": []
    },
    {
      "cell_type": "markdown",
      "source": [
        "6.Explain the CSS box model and its components.  \n",
        "Ans:  \n",
        "**CSS box model:**  \n",
        " If we assume that the the content is around it we have margin,padding,border and four these are css components.\n",
        " The four components of elemets are called css box and styiling these is called css box model.  \n",
        " **Border**-Border is the outer line displayed outside the content.  \n",
        " border-style:solid  \n",
        "              dashed  \n",
        "              double  \n",
        "              grooved  \n",
        "These are some border strles that we can apply to content.  \n",
        "border-width:  \n",
        "border-color:  \n",
        "- For styling particular side of content we use   \n",
        "border-top-style:  \n",
        "border-right-style:  \n",
        "border-bottom-style:  \n",
        "border-left-style:\n",
        "- The shorthand property of this is   \n",
        "border-style:top right bottom left;  \n",
        "- For border shor hand property is  \n",
        "border:border-width  border-color border-color;  \n",
        "**Padding:**\n",
        "padding is the space between border and content.  \n",
        "For differnt space along differnt sides the tags are:  \n",
        "padding-top:  \n",
        "padding-right:\n",
        "padding-bottom:    \n",
        "padding-left:  \n",
        "The short hand property of padding for diffent sides:\n",
        "padding:top right  bottom left;  \n",
        "- If we give one value to it ,it is applid to all sides.  \n",
        "**margin:**\n",
        "The space between the border and adjacent,top,bottom,left elemts.  \n",
        "- Like padding margin has properties for specifing the diffent space for differnt sizes and shorthand is  \n",
        "margin:  \n",
        "**content:**\n",
        "This is the main od css box model like text/Image or any other thing we style is content.\n",
        "\n",
        "\n",
        "\n",
        "\n",
        "\n",
        "\n",
        "\n",
        "\n",
        "\n",
        "\n",
        "\n"
      ],
      "metadata": {
        "id": "pc2dYZscMQpr"
      }
    },
    {
      "cell_type": "markdown",
      "source": [
        "7.How do the relative, absolute, and fixed positioning properties differ in\n",
        "CSS?  \n",
        "Ans:  \n",
        "- The relative,absolute,fixed are values of css property position.Default property is stastic  \n",
        "position:relative  \n",
        "         absolute  \n",
        "         fixed  \n",
        "relative: difines the position of the html elment with respect to the actual position of the element.And the postion can be difined by properities like top,left,bottom,right.  \n",
        "absolute:When used the element is removed from actual normal flow and position with repect to nearest anssector of the element.  \n",
        "fixed:The element is fixed even when is web page is scrolling.  \n",
        "- All these can be position by using the properities top,right,bottom,left.\n",
        "\n"
      ],
      "metadata": {
        "id": "CC5O7A40RvEf"
      }
    },
    {
      "cell_type": "markdown",
      "source": [
        "8.Write a CSS rule to set a background image for a div with the class\n",
        ".banner, ensuring the image covers the entire area without repeating."
      ],
      "metadata": {
        "id": "oPsCGshPUJ5E"
      }
    },
    {
      "cell_type": "code",
      "source": [
        ".banner{\n",
        "    background-image:url(\"image.jpg\");\n",
        "    background-size:cover;\n",
        "    background-repeat:no-repeat;\n",
        "}\n"
      ],
      "metadata": {
        "id": "-0vgrrTvURkR"
      },
      "execution_count": null,
      "outputs": []
    }
  ]
}